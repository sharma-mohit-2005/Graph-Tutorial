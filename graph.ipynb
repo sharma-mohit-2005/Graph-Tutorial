{
 "cells": [
  {
   "cell_type": "code",
   "execution_count": 2,
   "metadata": {},
   "outputs": [],
   "source": [
    "# Here I have given examples of the 3 different graph representations (matrix,list and edge list).\n",
    "\n",
    "adj_matrix = [[0,1,1,0,1],\n",
    "              [1,0,0,1,0],\n",
    "              [1,0,0,0,1],\n",
    "              [0,1,0,0,0],\n",
    "              [1,0,1,0,0]]\n",
    "\n",
    "adj_list = {'S1':['S2','S3','S5'],\n",
    "            'S2':['S1','S4'],\n",
    "            'S3':['S1','S5'],\n",
    "            'S4':['S2'],\n",
    "            'S5':['S1','S3']}\n",
    "\n",
    "edge_list = [('S1','S2'),('S1','S3'),('S1','S5'),('S2','S4'),('S3','S5')]\n",
    "\n",
    "# edge_list = [('S1','S2'),('S1','S3'),('S1','S5'),('S2','S1'),('S2','S4'),('S3','S1'),('S3','S5')\n",
    "#              ('S4','S2'),('S5','S1'),('S5','S3')]"
   ]
  },
  {
   "cell_type": "markdown",
   "metadata": {},
   "source": [
    "<h4>1. Write a code to find the degree of each vertex, and store it in a dictionary. Sort the keys of the dictionary by the degree stored in the values.</h4>"
   ]
  },
  {
   "cell_type": "code",
   "execution_count": null,
   "metadata": {},
   "outputs": [
    {
     "name": "stdout",
     "output_type": "stream",
     "text": [
      "{'S4': 1, 'S2': 2, 'S3': 2, 'S5': 2, 'S1': 3}\n",
      "{'S4': 1, 'S2': 2, 'S3': 2, 'S5': 2, 'S1': 3}\n",
      "{'S4': 1, 'S2': 2, 'S3': 2, 'S5': 2, 'S1': 3}\n"
     ]
    }
   ],
   "source": [
    "def find_degree_nodes(inp_data):\n",
    "    mera_dict = {}     # Initializing dictionary to store the degree values.\n",
    "    if inp_data:\n",
    "        if type(inp_data)==type({'x':[1,2]}):    # Checking whether given graph is adjacency list or not.\n",
    "            for item in inp_data:\n",
    "                mera_dict[item]=len(inp_data[item])\n",
    "                \n",
    "        elif type(inp_data[0])==type((1,2)):     # Checking whether given graph is adjacency matrix or not\n",
    "            for item in inp_data:\n",
    "                if item[0] in mera_dict:\n",
    "                    mera_dict[item[0]]+=1\n",
    "                else:\n",
    "                    mera_dict[item[0]]=1\n",
    "                \n",
    "                if item[1] in mera_dict:\n",
    "                    mera_dict[item[1]]+=1\n",
    "                else:\n",
    "                    mera_dict[item[1]]=1\n",
    "                    \n",
    "        elif type(inp_data[0])==type([1,2]):     # Checking whether given graph is edge list or not.\n",
    "            for item in range(len(inp_data)):\n",
    "                cnt = 0\n",
    "                for i in inp_data[item]:\n",
    "                    if i==1:\n",
    "                        cnt+=1\n",
    "                mera_dict[f'S{item+1}']=cnt\n",
    "        \n",
    "        # Sorting the dictionary based on degree values.\n",
    "        sorted_degree = dict(sorted(mera_dict.items(), key=lambda item: item[1]))\n",
    "        \n",
    "        return sorted_degree\n",
    "            \n",
    "            \n",
    "print(find_degree_nodes(adj_list))\n",
    "print(find_degree_nodes(edge_list))\n",
    "print(find_degree_nodes(adj_matrix))"
   ]
  },
  {
   "cell_type": "markdown",
   "metadata": {},
   "source": [
    "<h4>2. Write a code to inter-convert the 3 graph representations we have learnt.</h4>"
   ]
  },
  {
   "cell_type": "code",
   "execution_count": 5,
   "metadata": {},
   "outputs": [
    {
     "name": "stdout",
     "output_type": "stream",
     "text": [
      "{'S1': ['S2', 'S3', 'S5'], 'S2': ['S1', 'S4'], 'S3': ['S1', 'S5'], 'S4': ['S2'], 'S5': ['S1', 'S3']}\n",
      "['S1', 'S2', 'S3', 'S4', 'S5']\n"
     ]
    }
   ],
   "source": [
    "def convert_dict(my_input, node_list=None, type=None):\n",
    "    # Check if input is not empty\n",
    "    if my_input:\n",
    "\n",
    "        # Case 1: Input is an adjacency matrix (list of lists)\n",
    "        if isinstance(my_input, list) and isinstance(my_input[0], list):\n",
    "            my_dic = {}       # To store adjacency list\n",
    "            my_list = []      # To store edge list\n",
    "\n",
    "            for item in range(len(my_input)):\n",
    "                lis = []\n",
    "                for i in range(len(my_input[item])):\n",
    "                    if my_input[item][i] == 1:\n",
    "                        lis.append(node_list[i])  # Add neighbor to list\n",
    "                        my_list.append((node_list[item], node_list[i]))  # Record edge\n",
    "                my_dic[node_list[item]] = lis  # Map node to its neighbors\n",
    "\n",
    "            # Return based on desired output type\n",
    "            if type == 'matrix':\n",
    "                return my_input\n",
    "            elif type == 'dic':\n",
    "                return my_dic\n",
    "            else:\n",
    "                return my_list  # Default: return edge list\n",
    "\n",
    "        # Case 2: Input is an adjacency list (dictionary)\n",
    "        elif isinstance(my_input, dict):\n",
    "            x = my_input\n",
    "            node_list = list(my_input.keys())  # Get node labels\n",
    "            size = len(node_list)\n",
    "            matrix = [[0] * size for _ in range(size)]  # Initialize matrix with 0s\n",
    "            edg_lis = []  # To store edge list\n",
    "\n",
    "            for key, values in my_input.items():\n",
    "                row_index = node_list.index(key)\n",
    "                for value in values:\n",
    "                    col_index = node_list.index(value)\n",
    "                    matrix[row_index][col_index] = 1  # Mark edge in matrix\n",
    "                    edg_lis.append((key, value))  # Add edge to list\n",
    "\n",
    "            # Return based on desired output type\n",
    "            if type == 'matrix':\n",
    "                return matrix\n",
    "            elif type == 'dic':\n",
    "                return x\n",
    "            else:\n",
    "                return edg_lis  # Default: return edge list\n",
    "\n",
    "        # Case 3: Input is an edge list (list of tuples)\n",
    "        elif isinstance(my_input, list) and isinstance(my_input[0], tuple):\n",
    "            size = len(node_list)\n",
    "            matrix = [[0] * size for _ in range(size)]  # Initialize adjacency matrix\n",
    "            adja_lis = {}  # To store adjacency list\n",
    "\n",
    "            for item in my_input:\n",
    "                c1, c2 = node_list.index(item[0]), node_list.index(item[1])\n",
    "                matrix[c1][c2] = 1\n",
    "                matrix[c2][c1] = 1  # For undirected graph\n",
    "\n",
    "                # Add neighbor to adjacency list\n",
    "                if node_list[c1] in adja_lis:\n",
    "                    adja_lis[node_list[c1]].append(node_list[c2])\n",
    "                else:\n",
    "                    adja_lis[node_list[c1]] = [node_list[c2]]\n",
    "\n",
    "                if node_list[c2] in adja_lis:\n",
    "                    adja_lis[node_list[c2]].append(node_list[c1])\n",
    "                else:\n",
    "                    adja_lis[node_list[c2]] = [node_list[c1]]\n",
    "\n",
    "            # Return based on desired output type\n",
    "            if type == 'matrix':\n",
    "                return matrix\n",
    "            elif type == 'dic':\n",
    "                return adja_lis\n",
    "            else:\n",
    "                return my_input  # Default: return edge list\n",
    "\n",
    "adj_list = {'S1':['S2','S3','S5'],\n",
    "            'S2':['S1','S4'],\n",
    "            'S3':['S1','S5'],\n",
    "            'S4':['S2'],\n",
    "            'S5':['S1','S3']}\n",
    "\n",
    "print(convert_dict(adj_list,type='dic'))\n",
    "print(list(adj_list.keys()))"
   ]
  },
  {
   "cell_type": "markdown",
   "metadata": {},
   "source": [
    "<h4>3. Given a graph and two vertices, check if they are adjacent.</h4>"
   ]
  },
  {
   "cell_type": "code",
   "execution_count": 6,
   "metadata": {},
   "outputs": [
    {
     "name": "stdout",
     "output_type": "stream",
     "text": [
      "False\n"
     ]
    }
   ],
   "source": [
    "def check_adj_nodes(graph,n1,n2):\n",
    "    my_map = convert_dict(graph,'dic')\n",
    "    if n1 in my_map:\n",
    "        if n2 in my_map[n1]:\n",
    "            return True\n",
    "    return False\n",
    "\n",
    "print(check_adj_nodes(adj_list,'S5','S4'))"
   ]
  },
  {
   "cell_type": "markdown",
   "metadata": {},
   "source": [
    "<h4>4. Check if a graph is complete.</h4>"
   ]
  },
  {
   "cell_type": "code",
   "execution_count": 7,
   "metadata": {},
   "outputs": [
    {
     "name": "stdout",
     "output_type": "stream",
     "text": [
      "False\n"
     ]
    }
   ],
   "source": [
    "def check_complete_graph(graph):\n",
    "    my_matrix = convert_dict(graph,'matrix')\n",
    "    n=len(my_matrix)\n",
    "    for i in range(n):\n",
    "        for j in range(n):\n",
    "            if i==j:\n",
    "                continue\n",
    "            elif my_matrix[i][j]!=1:\n",
    "                return False\n",
    "    return True\n",
    "\n",
    "print(check_complete_graph(adj_list))"
   ]
  },
  {
   "cell_type": "markdown",
   "metadata": {},
   "source": [
    "<h4>5. Check if a graph is connected.</h4>"
   ]
  },
  {
   "cell_type": "code",
   "execution_count": 8,
   "metadata": {},
   "outputs": [
    {
     "name": "stdout",
     "output_type": "stream",
     "text": [
      "True\n"
     ]
    }
   ],
   "source": [
    "adj_list = {'S1':['S2','S3','S5'],\n",
    "            'S2':['S1','S4'],\n",
    "            'S3':['S1','S5'],\n",
    "            'S4':['S2'],\n",
    "            'S5':['S1','S3'],}\n",
    "\n",
    "def check_connected_graph(graph):\n",
    "    my_map = convert_dict(graph, type='dic')  # Ensure convert_dict is defined\n",
    "    visited = []\n",
    "    queue = []\n",
    "    \n",
    "    start_node = list(my_map.keys())[0]\n",
    "    visited.append(start_node)\n",
    "    queue.append(start_node)\n",
    "    \n",
    "    while queue:\n",
    "        n = queue.pop(0)  \n",
    "\n",
    "        for neighbor in my_map[n]:\n",
    "            if neighbor not in visited:\n",
    "                visited.append(neighbor)\n",
    "                queue.append(neighbor)\n",
    "\n",
    "    return len(visited) == len(my_map)\n",
    "\n",
    "print(check_connected_graph(adj_list))"
   ]
  },
  {
   "cell_type": "markdown",
   "metadata": {},
   "source": [
    "<h4>6. Given a graph and a list of vertices, check if it forms a walk, or a trail or a path or none of these.</h4>"
   ]
  },
  {
   "cell_type": "code",
   "execution_count": 10,
   "metadata": {},
   "outputs": [
    {
     "name": "stdout",
     "output_type": "stream",
     "text": [
      "Path\n",
      "Walk\n",
      "Path\n",
      "None of these\n"
     ]
    }
   ],
   "source": [
    "def check_walk_type(graph, vertex_list):\n",
    "    # Input: \n",
    "    # graph - adjacency list {node: [neighbors]}\n",
    "    # vertex_list - list of vertices in the walk\n",
    "    if not vertex_list or len(vertex_list) < 2:\n",
    "        return \"Invalid (Too short to determine anything)\"\n",
    "    \n",
    "    # Keep track of used edges and visited nodes\n",
    "    used_edges = set()\n",
    "    visited_nodes = set()\n",
    "\n",
    "    is_walk = True\n",
    "    is_trail = True\n",
    "    is_path = True\n",
    "\n",
    "    for i in range(len(vertex_list) - 1):\n",
    "        u = vertex_list[i]\n",
    "        v = vertex_list[i + 1]\n",
    "\n",
    "        # Check if edge exists between u and v\n",
    "        if v not in graph.get(u, []):\n",
    "            is_walk = False\n",
    "            break\n",
    "        \n",
    "        # Edge tuple (undirected)\n",
    "        edge = tuple(sorted((u, v)))\n",
    "\n",
    "        if edge in used_edges:\n",
    "            is_trail = False\n",
    "        else:\n",
    "            used_edges.add(edge)\n",
    "        \n",
    "        if v in visited_nodes:\n",
    "            is_path = False\n",
    "        else:\n",
    "            visited_nodes.add(v)\n",
    "    \n",
    "    # Also add the starting node to visited\n",
    "    visited_nodes.add(vertex_list[0])\n",
    "\n",
    "    if not is_walk:\n",
    "        return \"None of these\"\n",
    "    elif is_path:\n",
    "        return \"Path\"\n",
    "    elif is_trail:\n",
    "        return \"Trail\"\n",
    "    else:\n",
    "        return \"Walk\"\n",
    "\n",
    "graph = {\n",
    "    'A': ['B', 'C'],\n",
    "    'B': ['A', 'C'],\n",
    "    'C': ['A', 'B', 'D'],\n",
    "    'D': ['C']\n",
    "}\n",
    "\n",
    "print(check_walk_type(graph, ['A', 'B', 'C', 'D']))      # Path\n",
    "print(check_walk_type(graph, ['A', 'B', 'C', 'B']))      # Trail\n",
    "print(check_walk_type(graph, ['A', 'B', 'A', 'C']))      # Walk\n",
    "print(check_walk_type(graph, ['A', 'D', 'B']))           # None"
   ]
  },
  {
   "cell_type": "markdown",
   "metadata": {},
   "source": [
    "<h4>7. Check if a given graph is a tree.</h4>"
   ]
  },
  {
   "cell_type": "code",
   "execution_count": null,
   "metadata": {},
   "outputs": [],
   "source": [
    "def is_tree(graph):\n",
    "    visited = set()\n",
    "\n",
    "    def dfs(node, parent):\n",
    "        visited.add(node)\n",
    "        for neighbor in graph.get(node, []):\n",
    "            if neighbor not in visited:\n",
    "                if not dfs(neighbor, node):\n",
    "                    return False\n",
    "            elif neighbor != parent:\n",
    "                return False  # Found a cycle\n",
    "        return True\n",
    "\n",
    "    start_node = next(iter(graph))\n",
    "    if not dfs(start_node, None):\n",
    "        return False\n",
    "\n",
    "    return len(visited) == len(graph)\n"
   ]
  },
  {
   "cell_type": "markdown",
   "metadata": {},
   "source": [
    "<h4>8. Given a connected cyclic graph, find its spanning tree.</h4>"
   ]
  },
  {
   "cell_type": "code",
   "execution_count": null,
   "metadata": {},
   "outputs": [
    {
     "name": "stdout",
     "output_type": "stream",
     "text": [
      "[('S1', 'S2'), ('S1', 'S3'), ('S1', 'S5'), ('S2', 'S4')]\n"
     ]
    }
   ],
   "source": [
    "# Build spanning tree of a given graph.\n",
    "def spanning_tree(graph):\n",
    "    if not check_connected_graph(graph):\n",
    "        return \"Graph is not connected.\"\n",
    "    my_map = convert_dict(graph, type='dic')\n",
    "    visited = []\n",
    "    queue = []\n",
    "    edg_lis = []\n",
    "    \n",
    "    start_node = list(my_map.keys())[0]\n",
    "    visited.append(start_node)\n",
    "    queue.append(start_node)\n",
    "    \n",
    "    while queue:\n",
    "        n = queue.pop(0)  \n",
    "\n",
    "        for neighbor in my_map[n]:\n",
    "            if neighbor not in visited:\n",
    "                visited.append(neighbor)\n",
    "                queue.append(neighbor)\n",
    "                edg_lis.append((n,neighbor))\n",
    "        \n",
    "    return edg_lis\n",
    "print(spanning_tree(adj_list))"
   ]
  },
  {
   "cell_type": "markdown",
   "metadata": {},
   "source": [
    "<h4>9. Given a tree, find the number of leaf nodes.</h4>"
   ]
  },
  {
   "cell_type": "code",
   "execution_count": null,
   "metadata": {},
   "outputs": [],
   "source": [
    "def count_leaf_nodes(tree):\n",
    "    # Initialize a counter to keep track of leaf nodes\n",
    "    leaf_count = 0\n",
    "\n",
    "    # Loop through each node in the tree\n",
    "    for node in tree:\n",
    "        # Get the list of neighbors connected to the current node\n",
    "        neighbors = tree[node]\n",
    "\n",
    "        # Count how many connections this node has\n",
    "        connection_count = 0\n",
    "        for neighbor in neighbors:\n",
    "            connection_count += 1\n",
    "\n",
    "        # A leaf node has exactly one connection (in an undirected tree)\n",
    "        if connection_count == 1:\n",
    "            leaf_count += 1\n",
    "\n",
    "    # Return the final count of leaf nodes\n",
    "    return leaf_count\n"
   ]
  },
  {
   "cell_type": "markdown",
   "metadata": {},
   "source": [
    "<h4>10. Given a tree, check if it's a binary tree.</h4>"
   ]
  },
  {
   "cell_type": "code",
   "execution_count": null,
   "metadata": {},
   "outputs": [],
   "source": [
    "def is_binary_tree(tree):\n",
    "    # Initialize a variable to keep track of whether the tree is binary\n",
    "    is_binary = True\n",
    "\n",
    "    # Start checking each node in the tree\n",
    "    for node in tree:\n",
    "        # Count the number of connections (edges) for the current node\n",
    "        neighbor_count = 0\n",
    "        for neighbor in tree[node]:\n",
    "            neighbor_count += 1\n",
    "\n",
    "        # If the node is the root, it may have up to 2 or 3 connections\n",
    "        # We'll assume the root is the first key in the tree dictionary\n",
    "        root_node = list(tree.keys())[0]\n",
    "\n",
    "        if node == root_node:\n",
    "            # Root can have up to 2 or 3 connections depending on tree style\n",
    "            if neighbor_count > 3:\n",
    "                is_binary = False\n",
    "                break\n",
    "        else:\n",
    "            # All other nodes can have at most 2 children (1 parent + 2 children = 3 connections max)\n",
    "            if neighbor_count > 2:\n",
    "                is_binary = False\n",
    "                break\n",
    "\n",
    "    return is_binary\n"
   ]
  },
  {
   "cell_type": "markdown",
   "metadata": {},
   "source": [
    "<H4>11. Given a tree and a node, find its height.</h4>"
   ]
  },
  {
   "cell_type": "code",
   "execution_count": 11,
   "metadata": {},
   "outputs": [
    {
     "name": "stdout",
     "output_type": "stream",
     "text": [
      "2\n"
     ]
    }
   ],
   "source": [
    "tree = {'S1':['S2','S3','S4'],\n",
    "        'S2':['S5']}\n",
    "\n",
    "def get_height(tree, node):\n",
    "    # Helper function to perform DFS and calculate height\n",
    "    def dfs(current_node, parent_node):\n",
    "        # Initialize a list to store the height of each child\n",
    "        child_heights = []\n",
    "\n",
    "        # Get the neighbors (children) of the current node\n",
    "        if current_node in tree:\n",
    "            neighbors = tree[current_node]\n",
    "        else:\n",
    "            neighbors = []\n",
    "\n",
    "        # Iterate through each neighbor\n",
    "        for neighbor in neighbors:\n",
    "            # Avoid going back to the parent to prevent infinite loop\n",
    "            if neighbor != parent_node:\n",
    "                # Recursively calculate height for the child\n",
    "                child_height = dfs(neighbor, current_node)\n",
    "                # Append the child's height to the list\n",
    "                child_heights.append(child_height)\n",
    "\n",
    "        # Now calculate the maximum height among children\n",
    "        max_height = -1  # Default if there are no children\n",
    "        for h in child_heights:\n",
    "            if h > max_height:\n",
    "                max_height = h\n",
    "\n",
    "        # Height of current node = 1 + height of tallest child\n",
    "        return 1 + max_height\n",
    "\n",
    "    # Call the DFS from the given node\n",
    "    result = dfs(node, None)\n",
    "    return result\n",
    "print(get_height(tree,\"S1\"))\n",
    "     "
   ]
  },
  {
   "cell_type": "markdown",
   "metadata": {},
   "source": [
    "<h4>12. Given a tree and a node, find its depth.</h4>"
   ]
  },
  {
   "cell_type": "code",
   "execution_count": null,
   "metadata": {},
   "outputs": [
    {
     "name": "stdout",
     "output_type": "stream",
     "text": [
      "2\n"
     ]
    }
   ],
   "source": [
    "def get_depth(tree, root, target):\n",
    "    # This function finds the depth of a given target node in the tree\n",
    "    # Depth is the number of edges from the root to the target\n",
    "\n",
    "    # Inner function to perform DFS traversal\n",
    "    def dfs(current_node, parent_node, current_depth):\n",
    "        # If the current node is the one we're looking for, return its depth\n",
    "        if current_node == target:\n",
    "            return current_depth\n",
    "\n",
    "        # Check if the current node has neighbors (i.e., children)\n",
    "        if current_node in tree:\n",
    "            neighbors = tree[current_node]\n",
    "        else:\n",
    "            neighbors = []\n",
    "\n",
    "        # Initialize a variable to store the depth result\n",
    "        result_depth = -1  # Default if target not found in this path\n",
    "\n",
    "        # Loop through each neighbor of the current node\n",
    "        for neighbor in neighbors:\n",
    "            # Skip the parent node to avoid going back up the tree\n",
    "            if neighbor != parent_node:\n",
    "                # Recursively search the neighbor\n",
    "                depth_of_child = dfs(neighbor, current_node, current_depth + 1)\n",
    "\n",
    "                # If we found the target in this path, store the depth and stop searching\n",
    "                if depth_of_child != -1:\n",
    "                    result_depth = depth_of_child\n",
    "                    break  # No need to check other branches once found\n",
    "\n",
    "        # Return the depth found in this branch (or -1 if not found)\n",
    "        return result_depth\n",
    "\n",
    "    # Start the DFS from the root node, with depth 0\n",
    "    final_depth = dfs(root, None, 0)\n",
    "\n",
    "    # Return the depth of the target node\n",
    "    return final_depth\n",
    "\n",
    "tree = {\n",
    "    'A': ['B', 'C'],\n",
    "    'B': ['A', 'D', 'E'],\n",
    "    'C': ['A'],\n",
    "    'D': ['B'],\n",
    "    'E': ['B']\n",
    "}\n",
    "\n",
    "print(get_depth(tree, 'A', 'E')) "
   ]
  }
 ],
 "metadata": {
  "kernelspec": {
   "display_name": "Python 3",
   "language": "python",
   "name": "python3"
  },
  "language_info": {
   "codemirror_mode": {
    "name": "ipython",
    "version": 3
   },
   "file_extension": ".py",
   "mimetype": "text/x-python",
   "name": "python",
   "nbconvert_exporter": "python",
   "pygments_lexer": "ipython3",
   "version": "3.12.3"
  }
 },
 "nbformat": 4,
 "nbformat_minor": 2
}
